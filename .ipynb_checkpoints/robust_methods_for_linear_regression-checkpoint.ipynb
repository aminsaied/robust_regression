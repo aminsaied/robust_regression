{
 "cells": [
  {
   "cell_type": "code",
   "execution_count": 13,
   "metadata": {
    "collapsed": true
   },
   "outputs": [],
   "source": [
    "import numpy as np\n",
    "import pandas as pd\n",
    "import matplotlib.pyplot as plt\n",
    "%matplotlib inline"
   ]
  },
  {
   "cell_type": "code",
   "execution_count": 3,
   "metadata": {
    "collapsed": true
   },
   "outputs": [],
   "source": [
    "def simulate_linear_data(N, intercept, slope, residual_type, residual_param):\n",
    "    \"\"\"Simulare linear data...\"\"\"\n",
    "    # Create a pandas DataFrame with column 'x' containing\n",
    "    # N uniformly sampled values between 0.0 and 1.0\n",
    "    interval = [x/float(2*N) for x in np.arange(2*N)]\n",
    "    sample = np.random.choice(interval, size=N, replace=False)\n",
    "    df = pd.DataFrame({\"x\": sample})\n",
    "\n",
    "    # generate y values using linear model\n",
    "    linear_map = lambda x: intercept + slope*x\n",
    "    \n",
    "    if residual_type == 'normal':\n",
    "        var = residual_param\n",
    "        df['y'] = linear_map(df['x']) + np.random.normal(0, var, N)\n",
    "    \n",
    "    elif residual_type == 't':\n",
    "        dof = residual_param\n",
    "        df['y'] = linear_map(df['x']) + np.random.standard_t(dof, N)\n",
    "    \n",
    "    return df"
   ]
  },
  {
   "cell_type": "code",
   "execution_count": 21,
   "metadata": {
    "collapsed": true
   },
   "outputs": [],
   "source": [
    "data = simulate_linear_data(N=100,\n",
    "                            intercept=1,\n",
    "                            slope=10,\n",
    "                            residual_type='t',\n",
    "                            residual_param=3)"
   ]
  },
  {
   "cell_type": "code",
   "execution_count": 22,
   "metadata": {
    "collapsed": false
   },
   "outputs": [
    {
     "data": {
      "image/png": "[encoded data removed]",
      "text/plain": [
       "<matplotlib.figure.Figure at 0x114fc3e10>"
      ]
     },
     "metadata": {},
     "output_type": "display_data"
    }
   ],
   "source": [
    "ax = data.plot.scatter('x', 'y')"
   ]
  },
  {
   "cell_type": "code",
   "execution_count": 94,
   "metadata": {
    "collapsed": false
   },
   "outputs": [],
   "source": [
    "# build design matrix for x\n",
    "x = np.array(data['x'])\n",
    "X = np.ones(shape=(len(x),2))\n",
    "X[:,1] = x\n",
    "\n",
    "# response vector\n",
    "y = np.array(data['y']).reshape(-1,1)\n",
    "\n",
    "# initilise randomly\n",
    "beta = np.random.randn(2,1)\n",
    "psi = np.abs(np.random.randn(1))"
   ]
  },
  {
   "cell_type": "code",
   "execution_count": 93,
   "metadata": {
    "collapsed": false
   },
   "outputs": [
    {
     "data": {
      "text/plain": [
       "array([ 0.3127996])"
      ]
     },
     "execution_count": 93,
     "metadata": {},
     "output_type": "execute_result"
    }
   ],
   "source": []
  },
  {
   "cell_type": "code",
   "execution_count": 31,
   "metadata": {
    "collapsed": false
   },
   "outputs": [
    {
     "data": {
      "text/plain": [
       "array([  7.82393697,   7.09470143,   4.39149595,   6.7294947 ,\n",
       "         3.88907999,  12.26261042,   6.71204026,   7.53115733,\n",
       "         6.64682659,   1.68719083,   0.9805364 ,   1.97125097,\n",
       "         5.47324735,   4.12609629,   3.66744359,   2.93411863,\n",
       "         2.44017954,   8.13001533,   1.74626749,   9.62128649,\n",
       "         5.04497115,   3.34098457,   3.88667776,  11.0966634 ,\n",
       "         4.76752405,   8.63824233,   9.46638003,   7.22379695,\n",
       "         8.34397218,   5.94915729,   7.47101967,   2.11998917,\n",
       "         5.76937567,   3.14752515,  -9.14723643,   9.66281883,\n",
       "         5.19447945,  11.51996209,   9.16684582,   3.90047938,\n",
       "         4.46202792,   2.29188604,  10.11707923,   8.13974235,\n",
       "         7.74559961,   8.09269444,   4.79915792,   8.06965814,\n",
       "         6.60956916,   9.66583656,   1.27981812,   4.31116146,\n",
       "         3.94217028,   5.91545024,   1.98227757,   2.59194347,\n",
       "         9.78071273,   6.58940089,   2.70766922,   9.22411506,\n",
       "         3.5373072 ,   9.38435135,   7.03758964,   6.19831144,\n",
       "         8.99844867,   4.71569697,   7.11896587,   9.82192361,\n",
       "         8.77619262,   3.148501  ,   4.43020507,   3.61646453,\n",
       "         2.43612655,   7.71724474,   3.56218741,   9.14818758,\n",
       "         2.79553116,   0.86231835,   5.03186261,   7.58654716,\n",
       "         1.12364429,  12.16698476,   4.16837375,   0.9664837 ,\n",
       "         7.60702044,   6.57008218,  -0.3828189 ,   6.91301831,\n",
       "         4.40386727,   6.32356459,   2.77073266,   9.44605657,\n",
       "         3.06811544,   1.73023591,  10.5549622 ,   6.42686073,\n",
       "         6.02692604,   7.06032957,   2.61386372,   4.01029365])"
      ]
     },
     "execution_count": 31,
     "metadata": {},
     "output_type": "execute_result"
    }
   ],
   "source": [
    "n_iterations = 50\n",
    "for _ in range(n_iterations):\n",
    "    \n",
    "    # M step\n",
    "    mu = np.dot(y,w) / np.sum(w)\n",
    "    var = np.dot(w, (y - mu)**2) / len(y)\n",
    "    sigma = np.sqrt(var)"
   ]
  }
 ],
 "metadata": {
  "kernelspec": {
   "display_name": "Python [conda env:tensorflow]",
   "language": "python",
   "name": "conda-env-tensorflow-py"
  },
  "language_info": {
   "codemirror_mode": {
    "name": "ipython",
    "version": 3
   },
   "file_extension": ".py",
   "mimetype": "text/x-python",
   "name": "python",
   "nbconvert_exporter": "python",
   "pygments_lexer": "ipython3",
   "version": "3.5.4"
  }
 },
 "nbformat": 4,
 "nbformat_minor": 1
}
